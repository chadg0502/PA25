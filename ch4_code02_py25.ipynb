{
  "nbformat": 4,
  "nbformat_minor": 0,
  "metadata": {
    "colab": {
      "name": "ch4_code02_py25.ipynb",
      "provenance": [],
      "collapsed_sections": [],
      "include_colab_link": true
    },
    "kernelspec": {
      "display_name": "Python 3",
      "language": "python",
      "name": "python3"
    },
    "language_info": {
      "codemirror_mode": {
        "name": "ipython",
        "version": 3
      },
      "file_extension": ".py",
      "mimetype": "text/x-python",
      "name": "python",
      "nbconvert_exporter": "python",
      "pygments_lexer": "ipython3",
      "version": "3.7.5"
    }
  },
  "cells": [
    {
      "cell_type": "markdown",
      "metadata": {
        "id": "view-in-github",
        "colab_type": "text"
      },
      "source": [
        "<a href=\"https://colab.research.google.com/github/chadg0502/PA25/blob/main/ch4_code02_py25.ipynb\" target=\"_parent\"><img src=\"https://colab.research.google.com/assets/colab-badge.svg\" alt=\"Open In Colab\"/></a>"
      ]
    },
    {
      "cell_type": "markdown",
      "metadata": {
        "id": "H4jNE-BMAK3f"
      },
      "source": [
        "# ch4_code02.ipynb\n",
        "## py25  (change to your id)\n",
        "- 사용자 입력과 출력\n",
        "   - 사용자 입력\n",
        "     - input의 사용\n",
        "     - 프롬프트를 띄워서 사용자 입력 받기\n",
        "   - print 자세히 알기\n",
        "     - 큰따옴표(\")로 둘러싸인 문자열은 + 연산과 동일하다\n",
        "     - 문자열 띄어쓰기는 콤마로 한다\n",
        "     - 한 줄에 결괏값 출력하기\n",
        "---\n",
        "- 파일 읽고 쓰기\n",
        "   - 파일 생성하기\n",
        "   - 파일을 쓰기 모드로 열어 출력값 적기\n",
        "   - 프로그램의 외부에 저장된 파일을 읽는 여러 가지 방법\n",
        "     - readline() 함수 이용하기\n",
        "     - readlines 함수 사용하기\n",
        "     - read 함수 사용하기\n",
        "   - 파일에 새로운 내용 추가하기\n",
        "   - with문과 함께 사용하기"
      ]
    },
    {
      "cell_type": "markdown",
      "metadata": {
        "id": "uRmeDLFPxvEG"
      },
      "source": [
        "### user io"
      ]
    },
    {
      "cell_type": "markdown",
      "metadata": {
        "id": "sTR-sdZGCqYh"
      },
      "source": [
        "## 사용자 입력과 출력"
      ]
    },
    {
      "cell_type": "markdown",
      "metadata": {
        "id": "JWCCAOCQCqLn"
      },
      "source": [
        "/"
      ]
    },
    {
      "cell_type": "code",
      "metadata": {
        "id": "hXPcvn1CtW6z",
        "colab": {
          "base_uri": "https://localhost:8080/"
        },
        "outputId": "08d477e9-2bce-43a8-9b29-52acf6b372f7"
      },
      "source": [
        "# ch4_02_user_io.py\n",
        "#\n",
        "print(\"사용자 입력과 출력\")\n",
        "#######################################\n",
        "# 사용자의 입력을 받는 방법과 출력하는 방법\n",
        "#######################################"
      ],
      "execution_count": null,
      "outputs": [
        {
          "output_type": "stream",
          "text": [
            "사용자 입력과 출력\n"
          ],
          "name": "stdout"
        }
      ]
    },
    {
      "cell_type": "code",
      "metadata": {
        "colab": {
          "base_uri": "https://localhost:8080/",
          "height": 88
        },
        "id": "4aQCpDOmCusW",
        "outputId": "79c2d42e-a709-49b1-bfb2-613235c6a2db"
      },
      "source": [
        "print(\"사용자 입력\")\n",
        "# 사용자가 입력한 값을 어떤 변수에 대입\n",
        "#######################################\n",
        "print(\"input의 사용\")\n",
        "#######################################\n",
        "\n",
        "a = input()\n",
        "# Life is too short, you need python\n",
        "a"
      ],
      "execution_count": null,
      "outputs": [
        {
          "output_type": "stream",
          "text": [
            "사용자 입력\n",
            "input의 사용\n",
            "Life is too short, you need python\n"
          ],
          "name": "stdout"
        },
        {
          "output_type": "execute_result",
          "data": {
            "application/vnd.google.colaboratory.intrinsic+json": {
              "type": "string"
            },
            "text/plain": [
              "'Life is too short, you need python'"
            ]
          },
          "metadata": {
            "tags": []
          },
          "execution_count": 2
        }
      ]
    },
    {
      "cell_type": "code",
      "metadata": {
        "colab": {
          "base_uri": "https://localhost:8080/"
        },
        "id": "I3Z9j-EbC00v",
        "outputId": "229f6b78-d0be-46e0-b32e-4dfd3eff5439"
      },
      "source": [
        "print(\"입력 안내 문구를 이용한 input의 사용\")\n",
        "#######################################\n",
        "# input(\"안내 문구\")\n",
        "#######################################\n",
        "\n",
        "number = input(\"숫자를 입력하세요: \")\n",
        "\n",
        "print(number)"
      ],
      "execution_count": null,
      "outputs": [
        {
          "output_type": "stream",
          "text": [
            "입력 안내 문구를 이용한 input의 사용\n",
            "숫자를 입력하세요: abcd\n",
            "abcd\n"
          ],
          "name": "stdout"
        }
      ]
    },
    {
      "cell_type": "code",
      "metadata": {
        "colab": {
          "base_uri": "https://localhost:8080/"
        },
        "id": "m1YfkAdqDRQy",
        "outputId": "4d342a37-2e5f-4f49-a18d-be956fa56667"
      },
      "source": [
        "number=input(\"숫자만 입력하세요!\")\n",
        "if number.isnumeric():\n",
        "   print(number)\n",
        "else:\n",
        "      print(\"경고: 숫자만 입략하세요!\")"
      ],
      "execution_count": null,
      "outputs": [
        {
          "output_type": "stream",
          "text": [
            "숫자만 입력하세요!123\n",
            "123\n"
          ],
          "name": "stdout"
        }
      ]
    },
    {
      "cell_type": "markdown",
      "metadata": {
        "id": "CvCBHIAND61X"
      },
      "source": [
        "### 사용자 출력: print()\n"
      ]
    },
    {
      "cell_type": "code",
      "metadata": {
        "colab": {
          "base_uri": "https://localhost:8080/"
        },
        "id": "HbtIB-A-DKOt",
        "outputId": "4fb543a6-5e31-4d3f-9a53-4822fa67ccec"
      },
      "source": [
        "print(\"사용자 출력: print()\")\n",
        "# 입력한 자료형을 출력\n",
        "#######################################\n",
        "print(\"print의 사용\")\n",
        "#######################################\n",
        "\n",
        "a = 123\n",
        "print(a)\n",
        "\n",
        "a = \"Python\"\n",
        "print(a)\n",
        "\n",
        "a = [1, 2, 3]\n",
        "print(a)"
      ],
      "execution_count": null,
      "outputs": [
        {
          "output_type": "stream",
          "text": [
            "사용자 출력: print()\n",
            "print의 사용\n",
            "123\n",
            "Python\n",
            "[1, 2, 3]\n"
          ],
          "name": "stdout"
        }
      ]
    },
    {
      "cell_type": "code",
      "metadata": {
        "id": "XKHVBjDWxSz1",
        "colab": {
          "base_uri": "https://localhost:8080/"
        },
        "outputId": "1b729a42-4ed7-44c5-dc79-ed2d9f601ce1"
      },
      "source": [
        "#######################################\n",
        "print(\"큰따옴표(\\\")로 둘러싸인 문자열은 + 연산과 동일\")\n",
        "#\n",
        "print(\"life\" \"is\" \"too short\")\n",
        "print(\"life\"+\"is\"+\"too short\")"
      ],
      "execution_count": null,
      "outputs": [
        {
          "output_type": "stream",
          "text": [
            "큰따옴표(\")로 둘러싸인 문자열은 + 연산과 동일\n",
            "lifeistoo short\n",
            "lifeistoo short\n"
          ],
          "name": "stdout"
        }
      ]
    },
    {
      "cell_type": "code",
      "metadata": {
        "colab": {
          "base_uri": "https://localhost:8080/"
        },
        "id": "HpFlinLuEv26",
        "outputId": "c1e56d66-ab72-499e-c778-ef79fc70675f"
      },
      "source": [
        "#######################################\n",
        "print(\"문자열 띄어쓰기는 콤마로 한다\")\n",
        "#\n",
        "print(\"life\", \"is\", \"too short\")"
      ],
      "execution_count": null,
      "outputs": [
        {
          "output_type": "stream",
          "text": [
            "문자열 띄어쓰기는 콤마로 한다\n",
            "life is too short\n"
          ],
          "name": "stdout"
        }
      ]
    },
    {
      "cell_type": "code",
      "metadata": {
        "colab": {
          "base_uri": "https://localhost:8080/"
        },
        "id": "yq9tzfl2FBNl",
        "outputId": "9620c087-99e6-4162-c3cf-89d042d7693d"
      },
      "source": [
        "#######################################\n",
        "print(\"한 줄에 결괏값 출력하기\")\n",
        "#\n",
        "for i in range(10):\n",
        "    print(i, end=', ')\n"
      ],
      "execution_count": null,
      "outputs": [
        {
          "output_type": "stream",
          "text": [
            "한 줄에 결괏값 출력하기\n",
            "0, 1, 2, 3, 4, 5, 6, 7, 8, 9, "
          ],
          "name": "stdout"
        }
      ]
    },
    {
      "cell_type": "markdown",
      "metadata": {
        "id": "mVQeZHysFxII"
      },
      "source": [
        "### File io : 파일 입출력"
      ]
    },
    {
      "cell_type": "code",
      "metadata": {
        "colab": {
          "base_uri": "https://localhost:8080/"
        },
        "id": "UEXzrWk3FI4_",
        "outputId": "ee802971-5dce-47ad-e4f7-177c1db59a73"
      },
      "source": [
        "# ch4_03_file_io.py\n",
        "#\n",
        "print(\"파일 읽고 쓰기\")\n",
        "#######################################\n",
        "# 파일을 통한 입출력 방법에 대해 알아보자.\n",
        "#######################################"
      ],
      "execution_count": null,
      "outputs": [
        {
          "output_type": "stream",
          "text": [
            "파일 읽고 쓰기\n"
          ],
          "name": "stdout"
        }
      ]
    },
    {
      "cell_type": "markdown",
      "metadata": {
        "id": "WJsac4zaGUs2"
      },
      "source": [
        "### 파일 객체 = open(파일 이름, 파일 열기 모드)\n",
        "\n",
        "- 파일열기모드  \n",
        "    - r 읽기모드 - 파일을 읽기만 할 때 사용\n",
        "    - w 쓰기모드 - 파일에 내용을 쓸 때 사용   \n",
        "    - a 추가모드 - 파일의 마지막에 새로운 내용을 추가 시킬 때 사용"
      ]
    },
    {
      "cell_type": "code",
      "metadata": {
        "colab": {
          "base_uri": "https://localhost:8080/",
          "height": 53
        },
        "id": "q-LY9TZ3F-PW",
        "outputId": "fe7df151-dcd1-4a4c-fbf3-b0b4ddb88ebd"
      },
      "source": [
        "print(\"파일 쓰기(생성하기)\")\n",
        "#\n",
        "# 파일 객체 = open(파일 이름, 파일 열기 모드)\n",
        "#\n",
        "# 파일열기모드\n",
        "# r\t읽기모드 - 파일을 읽기만 할 때 사용\n",
        "# w\t쓰기모드 - 파일에 내용을 쓸 때 사용\n",
        "# a\t추가모드 - 파일의 마지막에 새로운 내용을 추가 시킬 때 사용\n",
        "#\n",
        "\n",
        "f = open(\"새파일.txt\", \"w\")\n",
        "f.close()\n",
        "# 파일이 어디에 만들어졌는 지 확인하시오!!!\n",
        "\n",
        "# 다른 폴더에 파일 생성\n",
        "\"\"\"\n",
        "f = open(\"C:/doit/새파일.txt\", 'w')\n",
        "f.close()\n",
        "\"\"\""
      ],
      "execution_count": null,
      "outputs": [
        {
          "output_type": "stream",
          "text": [
            "파일 쓰기(생성하기)\n"
          ],
          "name": "stdout"
        },
        {
          "output_type": "execute_result",
          "data": {
            "application/vnd.google.colaboratory.intrinsic+json": {
              "type": "string"
            },
            "text/plain": [
              "'\\nf = open(\"C:/doit/새파일.txt\", \\'w\\')\\nf.close()\\n'"
            ]
          },
          "metadata": {
            "tags": []
          },
          "execution_count": 13
        }
      ]
    },
    {
      "cell_type": "code",
      "metadata": {
        "id": "UJb9sh-sIX4e"
      },
      "source": [
        "f = open(\"doit/새파일2.txt\", 'w')\n",
        "f.close()"
      ],
      "execution_count": null,
      "outputs": []
    },
    {
      "cell_type": "code",
      "metadata": {
        "colab": {
          "base_uri": "https://localhost:8080/"
        },
        "id": "mZODnHqGGNDM",
        "outputId": "1b263936-0003-4362-a179-aa177fe2ea48"
      },
      "source": [
        "print(\"파일을 쓰기 모드로 열어 출력값 적기\")\n",
        "#######################################\n",
        "# 프로그램의 출력값을 파일에 직접 써 보자.\n",
        "#######################################\n",
        "# 모니터에 출력\n",
        "for i in range(1, 11):\n",
        "    data = \"%d번째 줄입니다.\\n\" % i\n",
        "    print(data)\n"
      ],
      "execution_count": null,
      "outputs": [
        {
          "output_type": "stream",
          "text": [
            "파일을 쓰기 모드로 열어 출력값 적기\n",
            "1번째 줄입니다.\n",
            "\n",
            "2번째 줄입니다.\n",
            "\n",
            "3번째 줄입니다.\n",
            "\n",
            "4번째 줄입니다.\n",
            "\n",
            "5번째 줄입니다.\n",
            "\n",
            "6번째 줄입니다.\n",
            "\n",
            "7번째 줄입니다.\n",
            "\n",
            "8번째 줄입니다.\n",
            "\n",
            "9번째 줄입니다.\n",
            "\n",
            "10번째 줄입니다.\n",
            "\n"
          ],
          "name": "stdout"
        }
      ]
    },
    {
      "cell_type": "code",
      "metadata": {
        "id": "8kTpnXlxJVAR"
      },
      "source": [
        "# 파일에 기록(출력)\n",
        "# writedata.py\n",
        "f = open(\"./새파일.txt\", \"w\")\n",
        "for i in range(1, 11):\n",
        "    data = \"%d번째 줄입니다.\\n\" % i\n",
        "    f.write(data)\n",
        "\n",
        "\n",
        "f.close()\n",
        "\n",
        "# 출력 파일의 한글이 깨지면\n",
        "# 파일 > 기본설정 > 설정 > Files: Auto Guess Encoding 을 지정(check)\n",
        "#"
      ],
      "execution_count": null,
      "outputs": []
    },
    {
      "cell_type": "markdown",
      "metadata": {
        "id": "_QxfQ60pKN4e"
      },
      "source": [
        "### 파일읽기\n",
        "1. readline() 함수 이용하기\n",
        "2. readlines 함수 사용하기\n",
        "3. read 함수 사용하기"
      ]
    },
    {
      "cell_type": "code",
      "metadata": {
        "colab": {
          "base_uri": "https://localhost:8080/"
        },
        "id": "WS1hR7lVJ0Y8",
        "outputId": "264b3534-d8f1-4c8a-9bb8-52681c6a18a5"
      },
      "source": [
        "###################################################\n",
        "print(\"파일 읽기\")\n",
        "#\n",
        "# 파일 객체 = open(파일 이름, 파일 열기 모드)\n",
        "#\n",
        "# 파일읽기\n",
        "# readline() 함수 이용하기\n",
        "# readlines 함수 사용하기\n",
        "# read 함수 사용하기\n",
        "#\n",
        "# 1. readline() 함수\n",
        "# readline_test.py\n",
        "f = open(\"새파일.txt\", \"r\")\n",
        "line = f.readline()\n",
        "print(line)\n",
        "f.close()\n"
      ],
      "execution_count": null,
      "outputs": [
        {
          "output_type": "stream",
          "text": [
            "파일 읽기\n",
            "1번째 줄입니다.\n",
            "\n"
          ],
          "name": "stdout"
        }
      ]
    },
    {
      "cell_type": "code",
      "metadata": {
        "colab": {
          "base_uri": "https://localhost:8080/"
        },
        "id": "Hratbe1eKleA",
        "outputId": "62eb775c-bee5-4231-9876-acb1471bb0f4"
      },
      "source": [
        "# readline_all.py\n",
        "f = open(\"새파일.txt\", \"r\")\n",
        "while True:\n",
        "    line = f.readline()\n",
        "    if not line:\n",
        "        break\n",
        "    print(line)\n",
        "f.close()\n"
      ],
      "execution_count": null,
      "outputs": [
        {
          "output_type": "stream",
          "text": [
            "1번째 줄입니다.\n",
            "\n",
            "2번째 줄입니다.\n",
            "\n",
            "3번째 줄입니다.\n",
            "\n",
            "4번째 줄입니다.\n",
            "\n",
            "5번째 줄입니다.\n",
            "\n",
            "6번째 줄입니다.\n",
            "\n",
            "7번째 줄입니다.\n",
            "\n",
            "8번째 줄입니다.\n",
            "\n",
            "9번째 줄입니다.\n",
            "\n",
            "10번째 줄입니다.\n",
            "\n"
          ],
          "name": "stdout"
        }
      ]
    },
    {
      "cell_type": "code",
      "metadata": {
        "colab": {
          "base_uri": "https://localhost:8080/"
        },
        "id": "S3VTIglIKwVa",
        "outputId": "2dd3e3c4-5f37-4a6f-c23b-0e34bf035d7a"
      },
      "source": [
        "# 사용자 입력을 이용한 화면 출력\n",
        "while 1:\n",
        "    data = input()\n",
        "    if not data:\n",
        "        break\n",
        "    print(data)\n"
      ],
      "execution_count": null,
      "outputs": [
        {
          "output_type": "stream",
          "text": [
            "abcd\n",
            "abcd\n",
            "1\n",
            "1\n",
            "33\n",
            "33\n",
            "0\n",
            "0\n",
            "\n"
          ],
          "name": "stdout"
        }
      ]
    },
    {
      "cell_type": "code",
      "metadata": {
        "colab": {
          "base_uri": "https://localhost:8080/"
        },
        "id": "tD7fWeTSLY86",
        "outputId": "3a772c56-35b5-40cf-95a8-f1e28a526437"
      },
      "source": [
        "# 2. readlines() 함수\n",
        "f = open(\"새파일.txt\", \"r\")\n",
        "lines = f.readlines()\n",
        "for line in lines:\n",
        "    print(line, end=\"\")\n",
        "f.close()\n"
      ],
      "execution_count": null,
      "outputs": [
        {
          "output_type": "stream",
          "text": [
            "1번째 줄입니다.\n",
            "2번째 줄입니다.\n",
            "3번째 줄입니다.\n",
            "4번째 줄입니다.\n",
            "5번째 줄입니다.\n",
            "6번째 줄입니다.\n",
            "7번째 줄입니다.\n",
            "8번째 줄입니다.\n",
            "9번째 줄입니다.\n",
            "10번째 줄입니다.\n"
          ],
          "name": "stdout"
        }
      ]
    },
    {
      "cell_type": "code",
      "metadata": {
        "colab": {
          "base_uri": "https://localhost:8080/"
        },
        "id": "2p9P404-L0V1",
        "outputId": "2fc10e33-a6d5-4441-dc4a-c56fdb4d67ef"
      },
      "source": [
        "# 3. readl() 함수\n",
        "f = open(\"새파일.txt\", \"r\")\n",
        "data = f.read()\n",
        "print(data)\n",
        "f.close()\n"
      ],
      "execution_count": null,
      "outputs": [
        {
          "output_type": "stream",
          "text": [
            "1번째 줄입니다.\n",
            "2번째 줄입니다.\n",
            "3번째 줄입니다.\n",
            "4번째 줄입니다.\n",
            "5번째 줄입니다.\n",
            "6번째 줄입니다.\n",
            "7번째 줄입니다.\n",
            "8번째 줄입니다.\n",
            "9번째 줄입니다.\n",
            "10번째 줄입니다.\n",
            "\n"
          ],
          "name": "stdout"
        }
      ]
    },
    {
      "cell_type": "code",
      "metadata": {
        "colab": {
          "base_uri": "https://localhost:8080/"
        },
        "id": "_SBdY8TmMLQU",
        "outputId": "17cb077b-ab30-4f06-dbe3-3c7a0362e4f2"
      },
      "source": [
        "###################################################\n",
        "print(\"파일에 새로운 내용 추가하기\")\n",
        "#\n",
        "# 파일에 원래 있던 값을 유지하면서 단지 새로운 값만 추가\n",
        "# 파일을 추가 모드('a')로 열고 쓴다.\n",
        "#\n",
        "# adddata.py\n",
        "f = open(\"새파일.txt\", \"a\")\n",
        "for i in range(11, 20):\n",
        "    data = \"%d번째 줄입니다.\\n\" % i\n",
        "    f.write(data)\n",
        "f.close()\n"
      ],
      "execution_count": null,
      "outputs": [
        {
          "output_type": "stream",
          "text": [
            "파일에 새로운 내용 추가하기\n"
          ],
          "name": "stdout"
        }
      ]
    },
    {
      "cell_type": "code",
      "metadata": {
        "colab": {
          "base_uri": "https://localhost:8080/"
        },
        "id": "dZmo97uNMaQF",
        "outputId": "c635e4b8-cee4-408a-b8f2-50c6a21dbf5f"
      },
      "source": [
        "# 수정된 파일 확인\n",
        "f = open(\"새파일.txt\", \"r\")\n",
        "data = f.read()\n",
        "print(data)\n",
        "f.close()\n"
      ],
      "execution_count": null,
      "outputs": [
        {
          "output_type": "stream",
          "text": [
            "1번째 줄입니다.\n",
            "2번째 줄입니다.\n",
            "3번째 줄입니다.\n",
            "4번째 줄입니다.\n",
            "5번째 줄입니다.\n",
            "6번째 줄입니다.\n",
            "7번째 줄입니다.\n",
            "8번째 줄입니다.\n",
            "9번째 줄입니다.\n",
            "10번째 줄입니다.\n",
            "11번째 줄입니다.\n",
            "12번째 줄입니다.\n",
            "13번째 줄입니다.\n",
            "14번째 줄입니다.\n",
            "15번째 줄입니다.\n",
            "16번째 줄입니다.\n",
            "17번째 줄입니다.\n",
            "18번째 줄입니다.\n",
            "19번째 줄입니다.\n",
            "\n"
          ],
          "name": "stdout"
        }
      ]
    },
    {
      "cell_type": "markdown",
      "metadata": {
        "id": "NIgJjWh_MyAp"
      },
      "source": [
        "### with in file io\n",
        "> with문을 사용하면 with 블록을 벗어나는 순간 열린 파일 객체 f가 자동으로 close 된다."
      ]
    },
    {
      "cell_type": "code",
      "metadata": {
        "colab": {
          "base_uri": "https://localhost:8080/"
        },
        "id": "nQqAPzEpMV_L",
        "outputId": "479e86be-6971-4af4-bc57-3770780bdbe6"
      },
      "source": [
        "###################################################\n",
        "print(\"with문과 함께 사용하기\")\n",
        "#\n",
        "# with문을 사용하면 with 블록을 벗어나는 순간\n",
        "# 열린 파일 객체 f가 자동으로 close 된다.\n",
        "#\n",
        "f = open(\"foo.txt\", \"w\")\n",
        "f.write(\"Life is too short, you need python\")\n",
        "f.close()\n"
      ],
      "execution_count": null,
      "outputs": [
        {
          "output_type": "stream",
          "text": [
            "with문과 함께 사용하기\n"
          ],
          "name": "stdout"
        }
      ]
    },
    {
      "cell_type": "code",
      "metadata": {
        "id": "LjXhaUJFNeKk"
      },
      "source": [
        "with open(\"foo1.txt\", \"w\") as f:\n",
        "    f.write(\"Life is too short, you need pythonWn\")\n",
        "    f.write(\"py25, Redwoods\")"
      ],
      "execution_count": null,
      "outputs": []
    },
    {
      "cell_type": "markdown",
      "metadata": {
        "id": "ZqRobrlRSBf8"
      },
      "source": [
        "### sys 모듈로 매개변수 주기"
      ]
    },
    {
      "cell_type": "code",
      "metadata": {
        "colab": {
          "base_uri": "https://localhost:8080/",
          "height": 70
        },
        "id": "IpF4WcO1P7gF",
        "outputId": "5bcd82fe-af94-4214-e3d4-732044e3b9a9"
      },
      "source": [
        "###################################################\n",
        "print(\"sys 모듈로 매개변수 주기\")\n",
        "#\n",
        "\"\"\"\n",
        "#sys1.py\n",
        "import sys\n",
        "args = sys.argv[1:]\n",
        "for i in args:\n",
        "    print(i)\n",
        "\"\"\"\n",
        "\n",
        "######\n",
        "\"\"\"\n",
        "#sys2.py\n",
        "import sys\n",
        "args = sys.argv[1:]\n",
        "for i in args:\n",
        "    print(i.upper(), end=' ')\n",
        "\"\"\"\n"
      ],
      "execution_count": null,
      "outputs": [
        {
          "output_type": "stream",
          "text": [
            "sys 모듈로 매개변수 주기\n"
          ],
          "name": "stdout"
        },
        {
          "output_type": "execute_result",
          "data": {
            "application/vnd.google.colaboratory.intrinsic+json": {
              "type": "string"
            },
            "text/plain": [
              "\"\\n#sys2.py\\nimport sys\\nargs = sys.argv[1:]\\nfor i in args:\\n    print(i.upper(), end=' ')\\n\""
            ]
          },
          "metadata": {
            "tags": []
          },
          "execution_count": 36
        }
      ]
    },
    {
      "cell_type": "code",
      "metadata": {
        "id": "fGBlcLGN-3pd",
        "colab": {
          "base_uri": "https://localhost:8080/"
        },
        "outputId": "01fe3b3e-bd49-4122-8426-54e444356e56"
      },
      "source": [
        "import sys\n",
        "args = sys.argv[1:]\n",
        "for arg in args:\n",
        "    print(arg)"
      ],
      "execution_count": null,
      "outputs": [
        {
          "output_type": "stream",
          "text": [
            "-f\n",
            "/root/.local/share/jupyter/runtime/kernel-f996d95a-1b6d-40db-a9fd-827a7814ff67.json\n"
          ],
          "name": "stdout"
        }
      ]
    },
    {
      "cell_type": "code",
      "metadata": {
        "colab": {
          "base_uri": "https://localhost:8080/"
        },
        "id": "_AUom9BUUMhR",
        "outputId": "ea48c16b-58cc-4c2b-8a02-c8a48a7bfa2c"
      },
      "source": [
        "run sys1.py"
      ],
      "execution_count": null,
      "outputs": [
        {
          "output_type": "stream",
          "text": [
            "sys1.py\n"
          ],
          "name": "stdout"
        }
      ]
    },
    {
      "cell_type": "code",
      "metadata": {
        "colab": {
          "base_uri": "https://localhost:8080/"
        },
        "id": "9xO8A1TUUXcU",
        "outputId": "85f2bdaa-5912-4a74-ef3b-2ed5993d0156"
      },
      "source": [
        "run sys1.py a b c"
      ],
      "execution_count": null,
      "outputs": [
        {
          "output_type": "stream",
          "text": [
            "a\n",
            "b\n",
            "c\n"
          ],
          "name": "stdout"
        }
      ]
    },
    {
      "cell_type": "code",
      "metadata": {
        "colab": {
          "base_uri": "https://localhost:8080/"
        },
        "id": "-Nme7iZOVcGS",
        "outputId": "cd6eca08-c60f-4309-c618-ff57473d367a"
      },
      "source": [
        "run sys2.py aa bb cc"
      ],
      "execution_count": null,
      "outputs": [
        {
          "output_type": "stream",
          "text": [
            "AA BB CC "
          ],
          "name": "stdout"
        }
      ]
    },
    {
      "cell_type": "code",
      "metadata": {
        "colab": {
          "base_uri": "https://localhost:8080/"
        },
        "id": "4XCgdMFgVs0G",
        "outputId": "b1246c65-66a1-4050-f0f7-dafb4032f595"
      },
      "source": [
        "!python sys2.py abc def"
      ],
      "execution_count": null,
      "outputs": [
        {
          "output_type": "stream",
          "text": [
            "ABC DEF "
          ],
          "name": "stdout"
        }
      ]
    }
  ]
}